{
  "cells": [
    {
      "cell_type": "markdown",
      "metadata": {
        "id": "lCHIkZZHY7w9"
      },
      "source": [
        "#### 1. Buatlah fungsi untuk menghitung `jumlah kalori terbakar` berdasarkan `jenis kegiatan` dan `durasi dalam menit`, dengan ketentuan di bawah:\n",
        "\n",
        "<div align=\"center\">\n",
        "\n",
        "|Kegiatan|Kalori Terbakar per Menit|\n",
        "|--|--|\n",
        "|Berlari|10|\n",
        "|Bersepeda|8|\n",
        "|Berenang|12|\n",
        "\n",
        "\n",
        "</div>\n",
        "\n",
        "contoh:\n",
        "```\n",
        ">>> input: calories_burned(duration=60, exercise='berenang')\n",
        ">>> output: 720\n",
        "\n",
        ">>> input: calories_burned(duration=15, exercise='berlari')\n",
        ">>> output: 150\n",
        "\n",
        ">>> input:calories_burned(duration=20, exercise='bersepeda')\n",
        ">>> output: 160\n",
        "```"
      ]
    },
    {
      "cell_type": "code",
      "execution_count": 29,
      "metadata": {},
      "outputs": [],
      "source": [
        "exercise_table = {\n",
        "        \"berlari\" : 10,\n",
        "        \"bersepeda\" : 8,\n",
        "        \"berenang\" : 12\n",
        "    }"
      ]
    },
    {
      "cell_type": "code",
      "execution_count": 30,
      "metadata": {
        "id": "c23SraoGn0sB"
      },
      "outputs": [],
      "source": [
        "# working area\n",
        "\n",
        "def calories_burned(duration, exercise):\n",
        "    total_cal = duration * exercise_table[exercise]\n",
        "    return total_cal"
      ]
    },
    {
      "cell_type": "code",
      "execution_count": 17,
      "metadata": {},
      "outputs": [
        {
          "name": "stdout",
          "output_type": "stream",
          "text": [
            "720\n",
            "150\n",
            "160\n"
          ]
        }
      ],
      "source": [
        "test1 = calories_burned(duration=60, exercise=\"berenang\")\n",
        "test2 = calories_burned(duration=15, exercise=\"berlari\")\n",
        "test3 = calories_burned(duration=20, exercise=\"bersepeda\")\n",
        "\n",
        "print(test1)\n",
        "print(test2)\n",
        "print(test3)"
      ]
    },
    {
      "cell_type": "markdown",
      "metadata": {
        "id": "uVYOZdpMaRC6"
      },
      "source": [
        "#### 2. Buat function untuk menghitung `total kalori terbakar` dari `beberapa sesi latihan`, manfaatkan fungsi yang telah dibuat sebelumnya di dalam function ini.\n",
        "\n",
        "Notes:\n",
        "- Dalam kasus ini diasumsikan setiap sesi latihan memiliki durasi yang sama (`each_session_duration`).\n",
        "- Function yang dibuat memiliki input argumen berupa: `n-length jenis latihan yang dilakukan di setiap sesinya` dan `each_session_duration`\n",
        "- Manfaatkan `*args` variable-length input untuk memasukkan jenis latihan.\n",
        "- Manfaatkan function yang telah dibuat sebelumnya untuk mengitung kalori terbakar di setiap sesi\n",
        "\n",
        "Contoh:\n",
        "```\n",
        ">>> input: total_session_burned_cal('berenang', 'bersepeda', each_session_duration=10)\n",
        ">>> output: 200\n",
        "\n",
        "penjelasan:\n",
        "kegiatan berenang dilakukan 10 menit dan kegiatan bersepeda dilakukan 10 menit dapat membakar total 200 kalori\n",
        "\n",
        ">>> input: total_session_burned_cal('berenang', 'berlari', 'bersepeda', each_session_duration=5)\n",
        ">>> output: 150\n",
        "\n",
        "penjelasan:\n",
        "kegiatan berenang, berlari dan bersepeda yang masing-masing dilakukan 5 menit dapat membakar 150 kalori.\n",
        "```"
      ]
    },
    {
      "cell_type": "code",
      "execution_count": 37,
      "metadata": {
        "id": "ttZ2qwHjn3Mb"
      },
      "outputs": [],
      "source": [
        "# working area\n",
        "\n",
        "def total_session_burned_cal(*list_exercise, each_session_duration):\n",
        "    total_cal = 0\n",
        "    for exer in list_exercise:\n",
        "        total_cal = total_cal + calories_burned(duration=each_session_duration, exercise=exer)\n",
        "    return total_cal"
      ]
    },
    {
      "cell_type": "code",
      "execution_count": 39,
      "metadata": {},
      "outputs": [
        {
          "name": "stdout",
          "output_type": "stream",
          "text": [
            "200\n",
            "150\n"
          ]
        }
      ],
      "source": [
        "test1 = total_session_burned_cal(\"berenang\", \"bersepeda\", each_session_duration=10)\n",
        "test2 = total_session_burned_cal(\"berenang\", \"berlari\", \"bersepeda\", each_session_duration=5)\n",
        "\n",
        "print(test1)\n",
        "print(test2)"
      ]
    },
    {
      "cell_type": "markdown",
      "metadata": {
        "id": "rvST1Pn9h6QX"
      },
      "source": [
        "#### 3. Lakukan Unit Testing pada kedua function yang telah dibuat.\n",
        "\n",
        "  ***Notes:***\n",
        "  \n",
        "  Pengujian Unit testing dapat dilakukan pada cell .ipynb dengan cara:\n",
        "- Cukup buat cell baru dan tulis code kerangka unit test di cell tersebut dan jalankan langsung di cell tanpa menggunakan if __name__()=='__main__'.\n",
        "\n",
        "- Sebagai pengganti idiom ini:\n",
        "```\n",
        "`if __name__=='__main__'`:\n",
        "   unittest.main()\n",
        "```\n",
        "dapat menggunakan:\n",
        "```\n",
        "unittest.main(argv=[''], exit=False)\n",
        "```"
      ]
    },
    {
      "cell_type": "code",
      "execution_count": 42,
      "metadata": {
        "id": "Q5CHnIifn5-C"
      },
      "outputs": [
        {
          "name": "stderr",
          "output_type": "stream",
          "text": [
            ".....\n",
            "----------------------------------------------------------------------\n",
            "Ran 5 tests in 0.007s\n",
            "\n",
            "OK\n"
          ]
        },
        {
          "data": {
            "text/plain": [
              "<unittest.main.TestProgram at 0x23fb46f1bd0>"
            ]
          },
          "execution_count": 42,
          "metadata": {},
          "output_type": "execute_result"
        }
      ],
      "source": [
        "# working area\n",
        "import unittest\n",
        "\n",
        "class test_calories_burned(unittest.TestCase):\n",
        "    def test_calories_burned_berenang_60(self):\n",
        "        duration = 60\n",
        "        exercise = \"berenang\"\n",
        "        total_cal = calories_burned(60, \"berenang\")\n",
        "        self.assertEqual(720, total_cal)\n",
        "    \n",
        "    def test_calories_burned_berlari_15(self):\n",
        "        duration = 15\n",
        "        exercise = \"berlari\"\n",
        "        total_cal = calories_burned(15, \"berlari\")\n",
        "        self.assertEqual(150, total_cal)\n",
        "    \n",
        "    def test_calories_burned_bersepeda_20(self):\n",
        "        duration = 20\n",
        "        exercise = \"bersepeda\"\n",
        "        total_cal = calories_burned(20, \"bersepeda\")\n",
        "        self.assertEqual(160, total_cal)\n",
        "\n",
        "    def test_total_session_burned_cal_berenang_bersepeda_10(self):\n",
        "        duration = 10\n",
        "        list_exercise = [\"berenang\", \"bersepeda\"]\n",
        "        total_cal = total_session_burned_cal(\"berenang\", \"bersepeda\", each_session_duration=10)\n",
        "        self.assertEqual(200, total_cal)\n",
        "\n",
        "    def test_total_session_burned_cal_berenang_berlari_bersepeda_5(self):\n",
        "        duration = 5\n",
        "        list_exercise = [\"berenang\", \"berlari\", \"bersepeda\"]\n",
        "        total_cal = total_session_burned_cal(\"berenang\", \"berlari\", \"bersepeda\", each_session_duration=5)\n",
        "        self.assertEqual(150, total_cal)\n",
        "\n",
        "\n",
        "unittest.main(argv=[''], exit=False)"
      ]
    }
  ],
  "metadata": {
    "colab": {
      "provenance": []
    },
    "kernelspec": {
      "display_name": "Python 3",
      "name": "python3"
    },
    "language_info": {
      "codemirror_mode": {
        "name": "ipython",
        "version": 3
      },
      "file_extension": ".py",
      "mimetype": "text/x-python",
      "name": "python",
      "nbconvert_exporter": "python",
      "pygments_lexer": "ipython3",
      "version": "3.11.5"
    }
  },
  "nbformat": 4,
  "nbformat_minor": 0
}
